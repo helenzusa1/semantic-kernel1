{
 "cells": [
  {
   "attachments": {},
   "cell_type": "markdown",
   "id": "fde98ddf",
   "metadata": {},
   "source": [
    "# Creating a basic chat experience with kernel arguments\n",
    "\n",
    "In this example, we show how you can build a simple chat bot by sending and updating the kernel arguments with your requests.\n",
    "\n",
    "We introduce the Kernel Arguments object which in this demo functions similarly as a key-value store that you can use when running the kernel.\n",
    "\n",
    "The chat history is local (i.e. in your computer's RAM) and not persisted anywhere beyond the life of this Jupyter session.\n",
    "\n",
    "In future examples, we will show how to persist the chat history on disk so that you can bring it into your applications.\n",
    "\n",
    "In this chat scenario, as the user talks back and forth with the bot, the chat context gets populated with the history of the conversation. During each new run of the kernel, the kernel arguments and chat history can provide the AI with its variables' content.\n"
   ]
  },
  {
   "cell_type": "code",
   "execution_count": 1,
   "id": "3b16c201",
   "metadata": {},
   "outputs": [
    {
     "name": "stdout",
     "output_type": "stream",
     "text": [
      "Requirement already satisfied: semantic-kernel in c:\\users\\helenzeng\\appdata\\local\\packages\\pythonsoftwarefoundation.python.3.11_qbz5n2kfra8p0\\localcache\\local-packages\\python311\\site-packages (1.14.0)\n",
      "Collecting semantic-kernel\n",
      "  Downloading semantic_kernel-1.15.0-py3-none-any.whl.metadata (5.2 kB)\n",
      "Requirement already satisfied: aiohttp~=3.8 in c:\\users\\helenzeng\\appdata\\local\\packages\\pythonsoftwarefoundation.python.3.11_qbz5n2kfra8p0\\localcache\\local-packages\\python311\\site-packages (from semantic-kernel) (3.8.6)\n",
      "Requirement already satisfied: cloudevents~=1.0 in c:\\users\\helenzeng\\appdata\\local\\packages\\pythonsoftwarefoundation.python.3.11_qbz5n2kfra8p0\\localcache\\local-packages\\python311\\site-packages (from semantic-kernel) (1.11.0)\n",
      "Requirement already satisfied: pydantic~=2.0 in c:\\users\\helenzeng\\appdata\\local\\packages\\pythonsoftwarefoundation.python.3.11_qbz5n2kfra8p0\\localcache\\local-packages\\python311\\site-packages (from semantic-kernel) (2.9.2)\n",
      "Requirement already satisfied: pydantic-settings~=2.0 in c:\\users\\helenzeng\\appdata\\local\\packages\\pythonsoftwarefoundation.python.3.11_qbz5n2kfra8p0\\localcache\\local-packages\\python311\\site-packages (from semantic-kernel) (2.6.1)\n",
      "Requirement already satisfied: defusedxml~=0.7 in c:\\users\\helenzeng\\appdata\\local\\packages\\pythonsoftwarefoundation.python.3.11_qbz5n2kfra8p0\\localcache\\local-packages\\python311\\site-packages (from semantic-kernel) (0.7.1)\n",
      "Requirement already satisfied: azure-identity~=1.13 in c:\\users\\helenzeng\\appdata\\local\\packages\\pythonsoftwarefoundation.python.3.11_qbz5n2kfra8p0\\localcache\\local-packages\\python311\\site-packages (from semantic-kernel) (1.15.0)\n",
      "Requirement already satisfied: numpy>=1.25.0 in c:\\users\\helenzeng\\appdata\\local\\packages\\pythonsoftwarefoundation.python.3.11_qbz5n2kfra8p0\\localcache\\local-packages\\python311\\site-packages (from semantic-kernel) (1.26.4)\n",
      "Requirement already satisfied: openai~=1.0 in c:\\users\\helenzeng\\appdata\\local\\packages\\pythonsoftwarefoundation.python.3.11_qbz5n2kfra8p0\\localcache\\local-packages\\python311\\site-packages (from semantic-kernel) (1.40.6)\n",
      "Requirement already satisfied: openapi_core<0.20,>=0.18 in c:\\users\\helenzeng\\appdata\\local\\packages\\pythonsoftwarefoundation.python.3.11_qbz5n2kfra8p0\\localcache\\local-packages\\python311\\site-packages (from semantic-kernel) (0.19.4)\n",
      "Requirement already satisfied: opentelemetry-api~=1.24 in c:\\users\\helenzeng\\appdata\\local\\packages\\pythonsoftwarefoundation.python.3.11_qbz5n2kfra8p0\\localcache\\local-packages\\python311\\site-packages (from semantic-kernel) (1.28.1)\n",
      "Requirement already satisfied: opentelemetry-sdk~=1.24 in c:\\users\\helenzeng\\appdata\\local\\packages\\pythonsoftwarefoundation.python.3.11_qbz5n2kfra8p0\\localcache\\local-packages\\python311\\site-packages (from semantic-kernel) (1.28.1)\n",
      "Requirement already satisfied: prance~=23.6.21.0 in c:\\users\\helenzeng\\appdata\\local\\packages\\pythonsoftwarefoundation.python.3.11_qbz5n2kfra8p0\\localcache\\local-packages\\python311\\site-packages (from semantic-kernel) (23.6.21.0)\n",
      "Requirement already satisfied: pybars4~=0.9 in c:\\users\\helenzeng\\appdata\\local\\packages\\pythonsoftwarefoundation.python.3.11_qbz5n2kfra8p0\\localcache\\local-packages\\python311\\site-packages (from semantic-kernel) (0.9.13)\n",
      "Requirement already satisfied: jinja2~=3.1 in c:\\users\\helenzeng\\appdata\\local\\packages\\pythonsoftwarefoundation.python.3.11_qbz5n2kfra8p0\\localcache\\local-packages\\python311\\site-packages (from semantic-kernel) (3.1.2)\n",
      "Requirement already satisfied: nest-asyncio~=1.6 in c:\\users\\helenzeng\\appdata\\local\\packages\\pythonsoftwarefoundation.python.3.11_qbz5n2kfra8p0\\localcache\\local-packages\\python311\\site-packages (from semantic-kernel) (1.6.0)\n",
      "Requirement already satisfied: attrs>=17.3.0 in c:\\users\\helenzeng\\appdata\\local\\packages\\pythonsoftwarefoundation.python.3.11_qbz5n2kfra8p0\\localcache\\local-packages\\python311\\site-packages (from aiohttp~=3.8->semantic-kernel) (23.1.0)\n",
      "Requirement already satisfied: charset-normalizer<4.0,>=2.0 in c:\\users\\helenzeng\\appdata\\local\\packages\\pythonsoftwarefoundation.python.3.11_qbz5n2kfra8p0\\localcache\\local-packages\\python311\\site-packages (from aiohttp~=3.8->semantic-kernel) (3.3.0)\n",
      "Requirement already satisfied: multidict<7.0,>=4.5 in c:\\users\\helenzeng\\appdata\\local\\packages\\pythonsoftwarefoundation.python.3.11_qbz5n2kfra8p0\\localcache\\local-packages\\python311\\site-packages (from aiohttp~=3.8->semantic-kernel) (6.0.4)\n",
      "Requirement already satisfied: async-timeout<5.0,>=4.0.0a3 in c:\\users\\helenzeng\\appdata\\local\\packages\\pythonsoftwarefoundation.python.3.11_qbz5n2kfra8p0\\localcache\\local-packages\\python311\\site-packages (from aiohttp~=3.8->semantic-kernel) (4.0.3)\n",
      "Requirement already satisfied: yarl<2.0,>=1.0 in c:\\users\\helenzeng\\appdata\\local\\packages\\pythonsoftwarefoundation.python.3.11_qbz5n2kfra8p0\\localcache\\local-packages\\python311\\site-packages (from aiohttp~=3.8->semantic-kernel) (1.9.2)\n",
      "Requirement already satisfied: frozenlist>=1.1.1 in c:\\users\\helenzeng\\appdata\\local\\packages\\pythonsoftwarefoundation.python.3.11_qbz5n2kfra8p0\\localcache\\local-packages\\python311\\site-packages (from aiohttp~=3.8->semantic-kernel) (1.4.0)\n",
      "Requirement already satisfied: aiosignal>=1.1.2 in c:\\users\\helenzeng\\appdata\\local\\packages\\pythonsoftwarefoundation.python.3.11_qbz5n2kfra8p0\\localcache\\local-packages\\python311\\site-packages (from aiohttp~=3.8->semantic-kernel) (1.3.1)\n",
      "Requirement already satisfied: azure-core<2.0.0,>=1.23.0 in c:\\users\\helenzeng\\appdata\\local\\packages\\pythonsoftwarefoundation.python.3.11_qbz5n2kfra8p0\\localcache\\local-packages\\python311\\site-packages (from azure-identity~=1.13->semantic-kernel) (1.30.2)\n",
      "Requirement already satisfied: cryptography>=2.5 in c:\\users\\helenzeng\\appdata\\local\\packages\\pythonsoftwarefoundation.python.3.11_qbz5n2kfra8p0\\localcache\\local-packages\\python311\\site-packages (from azure-identity~=1.13->semantic-kernel) (41.0.4)\n",
      "Requirement already satisfied: msal<2.0.0,>=1.24.0 in c:\\users\\helenzeng\\appdata\\local\\packages\\pythonsoftwarefoundation.python.3.11_qbz5n2kfra8p0\\localcache\\local-packages\\python311\\site-packages (from azure-identity~=1.13->semantic-kernel) (1.24.1)\n",
      "Requirement already satisfied: msal-extensions<2.0.0,>=0.3.0 in c:\\users\\helenzeng\\appdata\\local\\packages\\pythonsoftwarefoundation.python.3.11_qbz5n2kfra8p0\\localcache\\local-packages\\python311\\site-packages (from azure-identity~=1.13->semantic-kernel) (1.0.0)\n",
      "Requirement already satisfied: deprecation<3.0,>=2.0 in c:\\users\\helenzeng\\appdata\\local\\packages\\pythonsoftwarefoundation.python.3.11_qbz5n2kfra8p0\\localcache\\local-packages\\python311\\site-packages (from cloudevents~=1.0->semantic-kernel) (2.1.0)\n",
      "Requirement already satisfied: MarkupSafe>=2.0 in c:\\users\\helenzeng\\appdata\\local\\packages\\pythonsoftwarefoundation.python.3.11_qbz5n2kfra8p0\\localcache\\local-packages\\python311\\site-packages (from jinja2~=3.1->semantic-kernel) (2.1.3)\n",
      "Requirement already satisfied: anyio<5,>=3.5.0 in c:\\users\\helenzeng\\appdata\\local\\packages\\pythonsoftwarefoundation.python.3.11_qbz5n2kfra8p0\\localcache\\local-packages\\python311\\site-packages (from openai~=1.0->semantic-kernel) (4.2.0)\n",
      "Requirement already satisfied: distro<2,>=1.7.0 in c:\\users\\helenzeng\\appdata\\local\\packages\\pythonsoftwarefoundation.python.3.11_qbz5n2kfra8p0\\localcache\\local-packages\\python311\\site-packages (from openai~=1.0->semantic-kernel) (1.9.0)\n",
      "Requirement already satisfied: httpx<1,>=0.23.0 in c:\\users\\helenzeng\\appdata\\local\\packages\\pythonsoftwarefoundation.python.3.11_qbz5n2kfra8p0\\localcache\\local-packages\\python311\\site-packages (from openai~=1.0->semantic-kernel) (0.26.0)\n",
      "Requirement already satisfied: jiter<1,>=0.4.0 in c:\\users\\helenzeng\\appdata\\local\\packages\\pythonsoftwarefoundation.python.3.11_qbz5n2kfra8p0\\localcache\\local-packages\\python311\\site-packages (from openai~=1.0->semantic-kernel) (0.5.0)\n",
      "Requirement already satisfied: sniffio in c:\\users\\helenzeng\\appdata\\local\\packages\\pythonsoftwarefoundation.python.3.11_qbz5n2kfra8p0\\localcache\\local-packages\\python311\\site-packages (from openai~=1.0->semantic-kernel) (1.3.0)\n",
      "Requirement already satisfied: tqdm>4 in c:\\users\\helenzeng\\appdata\\local\\packages\\pythonsoftwarefoundation.python.3.11_qbz5n2kfra8p0\\localcache\\local-packages\\python311\\site-packages (from openai~=1.0->semantic-kernel) (4.66.2)\n",
      "Requirement already satisfied: typing-extensions<5,>=4.11 in c:\\users\\helenzeng\\appdata\\local\\packages\\pythonsoftwarefoundation.python.3.11_qbz5n2kfra8p0\\localcache\\local-packages\\python311\\site-packages (from openai~=1.0->semantic-kernel) (4.12.2)\n",
      "Requirement already satisfied: isodate in c:\\users\\helenzeng\\appdata\\local\\packages\\pythonsoftwarefoundation.python.3.11_qbz5n2kfra8p0\\localcache\\local-packages\\python311\\site-packages (from openapi_core<0.20,>=0.18->semantic-kernel) (0.6.1)\n",
      "Requirement already satisfied: jsonschema<5.0.0,>=4.18.0 in c:\\users\\helenzeng\\appdata\\local\\packages\\pythonsoftwarefoundation.python.3.11_qbz5n2kfra8p0\\localcache\\local-packages\\python311\\site-packages (from openapi_core<0.20,>=0.18->semantic-kernel) (4.19.2)\n",
      "Requirement already satisfied: jsonschema-path<0.4.0,>=0.3.1 in c:\\users\\helenzeng\\appdata\\local\\packages\\pythonsoftwarefoundation.python.3.11_qbz5n2kfra8p0\\localcache\\local-packages\\python311\\site-packages (from openapi_core<0.20,>=0.18->semantic-kernel) (0.3.3)\n",
      "Requirement already satisfied: more-itertools in c:\\users\\helenzeng\\appdata\\local\\packages\\pythonsoftwarefoundation.python.3.11_qbz5n2kfra8p0\\localcache\\local-packages\\python311\\site-packages (from openapi_core<0.20,>=0.18->semantic-kernel) (10.1.0)\n",
      "Requirement already satisfied: openapi-schema-validator<0.7.0,>=0.6.0 in c:\\users\\helenzeng\\appdata\\local\\packages\\pythonsoftwarefoundation.python.3.11_qbz5n2kfra8p0\\localcache\\local-packages\\python311\\site-packages (from openapi_core<0.20,>=0.18->semantic-kernel) (0.6.2)\n",
      "Requirement already satisfied: openapi-spec-validator<0.8.0,>=0.7.1 in c:\\users\\helenzeng\\appdata\\local\\packages\\pythonsoftwarefoundation.python.3.11_qbz5n2kfra8p0\\localcache\\local-packages\\python311\\site-packages (from openapi_core<0.20,>=0.18->semantic-kernel) (0.7.1)\n",
      "Requirement already satisfied: parse in c:\\users\\helenzeng\\appdata\\local\\packages\\pythonsoftwarefoundation.python.3.11_qbz5n2kfra8p0\\localcache\\local-packages\\python311\\site-packages (from openapi_core<0.20,>=0.18->semantic-kernel) (1.20.2)\n",
      "Requirement already satisfied: werkzeug in c:\\users\\helenzeng\\appdata\\local\\packages\\pythonsoftwarefoundation.python.3.11_qbz5n2kfra8p0\\localcache\\local-packages\\python311\\site-packages (from openapi_core<0.20,>=0.18->semantic-kernel) (3.0.0)\n",
      "Requirement already satisfied: deprecated>=1.2.6 in c:\\users\\helenzeng\\appdata\\local\\packages\\pythonsoftwarefoundation.python.3.11_qbz5n2kfra8p0\\localcache\\local-packages\\python311\\site-packages (from opentelemetry-api~=1.24->semantic-kernel) (1.2.14)\n",
      "Requirement already satisfied: importlib-metadata<=8.5.0,>=6.0 in c:\\users\\helenzeng\\appdata\\local\\packages\\pythonsoftwarefoundation.python.3.11_qbz5n2kfra8p0\\localcache\\local-packages\\python311\\site-packages (from opentelemetry-api~=1.24->semantic-kernel) (6.8.0)\n",
      "Requirement already satisfied: opentelemetry-semantic-conventions==0.49b1 in c:\\users\\helenzeng\\appdata\\local\\packages\\pythonsoftwarefoundation.python.3.11_qbz5n2kfra8p0\\localcache\\local-packages\\python311\\site-packages (from opentelemetry-sdk~=1.24->semantic-kernel) (0.49b1)\n",
      "Requirement already satisfied: chardet>=3.0 in c:\\users\\helenzeng\\appdata\\local\\packages\\pythonsoftwarefoundation.python.3.11_qbz5n2kfra8p0\\localcache\\local-packages\\python311\\site-packages (from prance~=23.6.21.0->semantic-kernel) (5.2.0)\n",
      "Requirement already satisfied: ruamel.yaml>=0.17.10 in c:\\users\\helenzeng\\appdata\\local\\packages\\pythonsoftwarefoundation.python.3.11_qbz5n2kfra8p0\\localcache\\local-packages\\python311\\site-packages (from prance~=23.6.21.0->semantic-kernel) (0.18.5)\n",
      "Requirement already satisfied: requests>=2.25 in c:\\users\\helenzeng\\appdata\\local\\packages\\pythonsoftwarefoundation.python.3.11_qbz5n2kfra8p0\\localcache\\local-packages\\python311\\site-packages (from prance~=23.6.21.0->semantic-kernel) (2.31.0)\n",
      "Requirement already satisfied: six~=1.15 in c:\\users\\helenzeng\\appdata\\local\\packages\\pythonsoftwarefoundation.python.3.11_qbz5n2kfra8p0\\localcache\\local-packages\\python311\\site-packages (from prance~=23.6.21.0->semantic-kernel) (1.16.0)\n",
      "Requirement already satisfied: packaging>=21.3 in c:\\users\\helenzeng\\appdata\\local\\packages\\pythonsoftwarefoundation.python.3.11_qbz5n2kfra8p0\\localcache\\local-packages\\python311\\site-packages (from prance~=23.6.21.0->semantic-kernel) (23.2)\n",
      "Requirement already satisfied: PyMeta3>=0.5.1 in c:\\users\\helenzeng\\appdata\\local\\packages\\pythonsoftwarefoundation.python.3.11_qbz5n2kfra8p0\\localcache\\local-packages\\python311\\site-packages (from pybars4~=0.9->semantic-kernel) (0.5.1)\n",
      "Requirement already satisfied: annotated-types>=0.6.0 in c:\\users\\helenzeng\\appdata\\local\\packages\\pythonsoftwarefoundation.python.3.11_qbz5n2kfra8p0\\localcache\\local-packages\\python311\\site-packages (from pydantic~=2.0->semantic-kernel) (0.6.0)\n",
      "Requirement already satisfied: pydantic-core==2.23.4 in c:\\users\\helenzeng\\appdata\\local\\packages\\pythonsoftwarefoundation.python.3.11_qbz5n2kfra8p0\\localcache\\local-packages\\python311\\site-packages (from pydantic~=2.0->semantic-kernel) (2.23.4)\n",
      "Requirement already satisfied: python-dotenv>=0.21.0 in c:\\users\\helenzeng\\appdata\\local\\packages\\pythonsoftwarefoundation.python.3.11_qbz5n2kfra8p0\\localcache\\local-packages\\python311\\site-packages (from pydantic-settings~=2.0->semantic-kernel) (1.0.0)\n",
      "Requirement already satisfied: idna>=2.8 in c:\\users\\helenzeng\\appdata\\local\\packages\\pythonsoftwarefoundation.python.3.11_qbz5n2kfra8p0\\localcache\\local-packages\\python311\\site-packages (from anyio<5,>=3.5.0->openai~=1.0->semantic-kernel) (3.4)\n",
      "Requirement already satisfied: cffi>=1.12 in c:\\users\\helenzeng\\appdata\\local\\packages\\pythonsoftwarefoundation.python.3.11_qbz5n2kfra8p0\\localcache\\local-packages\\python311\\site-packages (from cryptography>=2.5->azure-identity~=1.13->semantic-kernel) (1.16.0)\n",
      "Requirement already satisfied: wrapt<2,>=1.10 in c:\\users\\helenzeng\\appdata\\local\\packages\\pythonsoftwarefoundation.python.3.11_qbz5n2kfra8p0\\localcache\\local-packages\\python311\\site-packages (from deprecated>=1.2.6->opentelemetry-api~=1.24->semantic-kernel) (1.16.0)\n",
      "Requirement already satisfied: certifi in c:\\users\\helenzeng\\appdata\\local\\packages\\pythonsoftwarefoundation.python.3.11_qbz5n2kfra8p0\\localcache\\local-packages\\python311\\site-packages (from httpx<1,>=0.23.0->openai~=1.0->semantic-kernel) (2023.7.22)\n",
      "Requirement already satisfied: httpcore==1.* in c:\\users\\helenzeng\\appdata\\local\\packages\\pythonsoftwarefoundation.python.3.11_qbz5n2kfra8p0\\localcache\\local-packages\\python311\\site-packages (from httpx<1,>=0.23.0->openai~=1.0->semantic-kernel) (1.0.2)\n",
      "Requirement already satisfied: h11<0.15,>=0.13 in c:\\users\\helenzeng\\appdata\\local\\packages\\pythonsoftwarefoundation.python.3.11_qbz5n2kfra8p0\\localcache\\local-packages\\python311\\site-packages (from httpcore==1.*->httpx<1,>=0.23.0->openai~=1.0->semantic-kernel) (0.14.0)\n",
      "Requirement already satisfied: zipp>=0.5 in c:\\users\\helenzeng\\appdata\\local\\packages\\pythonsoftwarefoundation.python.3.11_qbz5n2kfra8p0\\localcache\\local-packages\\python311\\site-packages (from importlib-metadata<=8.5.0,>=6.0->opentelemetry-api~=1.24->semantic-kernel) (3.17.0)\n",
      "Requirement already satisfied: jsonschema-specifications>=2023.03.6 in c:\\users\\helenzeng\\appdata\\local\\packages\\pythonsoftwarefoundation.python.3.11_qbz5n2kfra8p0\\localcache\\local-packages\\python311\\site-packages (from jsonschema<5.0.0,>=4.18.0->openapi_core<0.20,>=0.18->semantic-kernel) (2023.7.1)\n",
      "Requirement already satisfied: referencing>=0.28.4 in c:\\users\\helenzeng\\appdata\\local\\packages\\pythonsoftwarefoundation.python.3.11_qbz5n2kfra8p0\\localcache\\local-packages\\python311\\site-packages (from jsonschema<5.0.0,>=4.18.0->openapi_core<0.20,>=0.18->semantic-kernel) (0.30.2)\n",
      "Requirement already satisfied: rpds-py>=0.7.1 in c:\\users\\helenzeng\\appdata\\local\\packages\\pythonsoftwarefoundation.python.3.11_qbz5n2kfra8p0\\localcache\\local-packages\\python311\\site-packages (from jsonschema<5.0.0,>=4.18.0->openapi_core<0.20,>=0.18->semantic-kernel) (0.10.6)\n",
      "Requirement already satisfied: PyYAML>=5.1 in c:\\users\\helenzeng\\appdata\\local\\packages\\pythonsoftwarefoundation.python.3.11_qbz5n2kfra8p0\\localcache\\local-packages\\python311\\site-packages (from jsonschema-path<0.4.0,>=0.3.1->openapi_core<0.20,>=0.18->semantic-kernel) (6.0.1)\n",
      "Requirement already satisfied: pathable<0.5.0,>=0.4.1 in c:\\users\\helenzeng\\appdata\\local\\packages\\pythonsoftwarefoundation.python.3.11_qbz5n2kfra8p0\\localcache\\local-packages\\python311\\site-packages (from jsonschema-path<0.4.0,>=0.3.1->openapi_core<0.20,>=0.18->semantic-kernel) (0.4.3)\n",
      "Requirement already satisfied: PyJWT<3,>=1.0.0 in c:\\users\\helenzeng\\appdata\\local\\packages\\pythonsoftwarefoundation.python.3.11_qbz5n2kfra8p0\\localcache\\local-packages\\python311\\site-packages (from PyJWT[crypto]<3,>=1.0.0->msal<2.0.0,>=1.24.0->azure-identity~=1.13->semantic-kernel) (2.8.0)\n",
      "Requirement already satisfied: portalocker<3,>=1.6 in c:\\users\\helenzeng\\appdata\\local\\packages\\pythonsoftwarefoundation.python.3.11_qbz5n2kfra8p0\\localcache\\local-packages\\python311\\site-packages (from msal-extensions<2.0.0,>=0.3.0->azure-identity~=1.13->semantic-kernel) (2.8.2)\n",
      "Requirement already satisfied: rfc3339-validator in c:\\users\\helenzeng\\appdata\\local\\packages\\pythonsoftwarefoundation.python.3.11_qbz5n2kfra8p0\\localcache\\local-packages\\python311\\site-packages (from openapi-schema-validator<0.7.0,>=0.6.0->openapi_core<0.20,>=0.18->semantic-kernel) (0.1.4)\n",
      "Requirement already satisfied: lazy-object-proxy<2.0.0,>=1.7.1 in c:\\users\\helenzeng\\appdata\\local\\packages\\pythonsoftwarefoundation.python.3.11_qbz5n2kfra8p0\\localcache\\local-packages\\python311\\site-packages (from openapi-spec-validator<0.8.0,>=0.7.1->openapi_core<0.20,>=0.18->semantic-kernel) (1.10.0)\n",
      "Requirement already satisfied: urllib3<3,>=1.21.1 in c:\\users\\helenzeng\\appdata\\local\\packages\\pythonsoftwarefoundation.python.3.11_qbz5n2kfra8p0\\localcache\\local-packages\\python311\\site-packages (from requests>=2.25->prance~=23.6.21.0->semantic-kernel) (2.0.6)\n",
      "Requirement already satisfied: ruamel.yaml.clib>=0.2.7 in c:\\users\\helenzeng\\appdata\\local\\packages\\pythonsoftwarefoundation.python.3.11_qbz5n2kfra8p0\\localcache\\local-packages\\python311\\site-packages (from ruamel.yaml>=0.17.10->prance~=23.6.21.0->semantic-kernel) (0.2.8)\n",
      "Requirement already satisfied: colorama in c:\\users\\helenzeng\\appdata\\local\\packages\\pythonsoftwarefoundation.python.3.11_qbz5n2kfra8p0\\localcache\\local-packages\\python311\\site-packages (from tqdm>4->openai~=1.0->semantic-kernel) (0.4.6)\n",
      "Requirement already satisfied: pycparser in c:\\users\\helenzeng\\appdata\\local\\packages\\pythonsoftwarefoundation.python.3.11_qbz5n2kfra8p0\\localcache\\local-packages\\python311\\site-packages (from cffi>=1.12->cryptography>=2.5->azure-identity~=1.13->semantic-kernel) (2.21)\n",
      "Requirement already satisfied: pywin32>=226 in c:\\users\\helenzeng\\appdata\\local\\packages\\pythonsoftwarefoundation.python.3.11_qbz5n2kfra8p0\\localcache\\local-packages\\python311\\site-packages (from portalocker<3,>=1.6->msal-extensions<2.0.0,>=0.3.0->azure-identity~=1.13->semantic-kernel) (306)\n",
      "Downloading semantic_kernel-1.15.0-py3-none-any.whl (645 kB)\n",
      "   ---------------------------------------- 0.0/645.9 kB ? eta -:--:--\n",
      "   ---------------------------------------- 645.9/645.9 kB 6.2 MB/s eta 0:00:00\n",
      "Installing collected packages: semantic-kernel\n",
      "  Attempting uninstall: semantic-kernel\n",
      "    Found existing installation: semantic-kernel 1.14.0\n",
      "    Uninstalling semantic-kernel-1.14.0:\n",
      "      Successfully uninstalled semantic-kernel-1.14.0\n",
      "Successfully installed semantic-kernel-1.15.0\n",
      "Note: you may need to restart the kernel to use updated packages.\n"
     ]
    },
    {
     "data": {
      "text/plain": [
       "'1.15.0'"
      ]
     },
     "execution_count": 1,
     "metadata": {},
     "output_type": "execute_result"
    }
   ],
   "source": [
    "# Note: if using a virtual environment, do not run this cell\n",
    "%pip install -U semantic-kernel\n",
    "from semantic_kernel import __version__\n",
    "\n",
    "__version__"
   ]
  },
  {
   "cell_type": "markdown",
   "id": "85886ed0",
   "metadata": {},
   "source": [
    "Initial configuration for the notebook to run properly."
   ]
  },
  {
   "cell_type": "code",
   "execution_count": 2,
   "id": "ec88496f",
   "metadata": {},
   "outputs": [],
   "source": [
    "# Make sure paths are correct for the imports\n",
    "\n",
    "import os\n",
    "import sys\n",
    "\n",
    "notebook_dir = os.path.abspath(\"C:\\\\Users\\\\helenzeng\\\\semantic-kernel\\\\python\\\\samples\\\\getting_started\")\n",
    "parent_dir = os.path.dirname(notebook_dir)\n",
    "grandparent_dir = os.path.dirname(parent_dir)\n",
    "\n",
    "\n",
    "sys.path.append(grandparent_dir)"
   ]
  },
  {
   "cell_type": "markdown",
   "id": "208ed165",
   "metadata": {},
   "source": [
    "### Configuring the Kernel\n",
    "\n",
    "Let's get started with the necessary configuration to run Semantic Kernel. For Notebooks, we require a `.env` file with the proper settings for the model you use. Create a new file named `.env` and place it in this directory. Copy the contents of the `.env.example` file from this directory and paste it into the `.env` file that you just created.\n",
    "\n",
    "**NOTE: Please make sure to include `GLOBAL_LLM_SERVICE` set to either OpenAI, AzureOpenAI, or HuggingFace in your .env file. If this setting is not included, the Service will default to AzureOpenAI.**\n",
    "\n",
    "#### Option 1: using OpenAI\n",
    "\n",
    "Add your [OpenAI Key](https://openai.com/product/) key to your `.env` file (org Id only if you have multiple orgs):\n",
    "\n",
    "```\n",
    "GLOBAL_LLM_SERVICE=\"OpenAI\"\n",
    "OPENAI_API_KEY=\"sk-...\"\n",
    "OPENAI_ORG_ID=\"\"\n",
    "OPENAI_CHAT_MODEL_ID=\"\"\n",
    "OPENAI_TEXT_MODEL_ID=\"\"\n",
    "OPENAI_EMBEDDING_MODEL_ID=\"\"\n",
    "```\n",
    "The names should match the names used in the `.env` file, as shown above.\n",
    "\n",
    "#### Option 2: using Azure OpenAI\n",
    "\n",
    "Add your [Azure Open AI Service key](https://learn.microsoft.com/azure/cognitive-services/openai/quickstart?pivots=programming-language-studio) settings to the `.env` file in the same folder:\n",
    "\n",
    "```\n",
    "GLOBAL_LLM_SERVICE=\"AzureOpenAI\"\n",
    "AZURE_OPENAI_API_KEY=\"...\"\n",
    "AZURE_OPENAI_ENDPOINT=\"https://...\"\n",
    "AZURE_OPENAI_CHAT_DEPLOYMENT_NAME=\"...\"\n",
    "AZURE_OPENAI_TEXT_DEPLOYMENT_NAME=\"...\"\n",
    "AZURE_OPENAI_EMBEDDING_DEPLOYMENT_NAME=\"...\"\n",
    "AZURE_OPENAI_API_VERSION=\"...\"\n",
    "```\n",
    "The names should match the names used in the `.env` file, as shown above.\n",
    "\n",
    "For more advanced configuration, please follow the steps outlined in the [setup guide](./CONFIGURING_THE_KERNEL.md)."
   ]
  },
  {
   "cell_type": "markdown",
   "id": "da290af7",
   "metadata": {},
   "source": [
    "We will load our settings and get the LLM service to use for the notebook."
   ]
  },
  {
   "cell_type": "code",
   "execution_count": 3,
   "id": "6ed3f9ae",
   "metadata": {},
   "outputs": [
    {
     "name": "stdout",
     "output_type": "stream",
     "text": [
      "Using service type: Service.AzureOpenAI\n"
     ]
    }
   ],
   "source": [
    "from services import Service\n",
    "\n",
    "from samples.service_settings import ServiceSettings\n",
    "\n",
    "service_settings = ServiceSettings.create()\n",
    "\n",
    "# Select a service to use for this notebook (available services: OpenAI, AzureOpenAI, HuggingFace)\n",
    "selectedService = (\n",
    "    Service.AzureOpenAI\n",
    "    if service_settings.global_llm_service is None\n",
    "    else Service(service_settings.global_llm_service.lower())\n",
    ")\n",
    "print(f\"Using service type: {selectedService}\")"
   ]
  },
  {
   "cell_type": "code",
   "execution_count": 4,
   "id": "68301108",
   "metadata": {},
   "outputs": [],
   "source": [
    "from semantic_kernel import Kernel\n",
    "\n",
    "kernel = Kernel()\n",
    "\n",
    "service_id = None\n",
    "if selectedService == Service.OpenAI:\n",
    "    from semantic_kernel.connectors.ai.open_ai import OpenAIChatCompletion\n",
    "\n",
    "    service_id = \"default\"\n",
    "    kernel.add_service(\n",
    "        OpenAIChatCompletion(\n",
    "            service_id=service_id,\n",
    "        ),\n",
    "    )\n",
    "elif selectedService == Service.AzureOpenAI:\n",
    "    from semantic_kernel.connectors.ai.open_ai import AzureChatCompletion\n",
    "\n",
    "    service_id = \"default\"\n",
    "    kernel.add_service(\n",
    "        AzureChatCompletion(\n",
    "            service_id=service_id,\n",
    "        ),\n",
    "    )"
   ]
  },
  {
   "attachments": {},
   "cell_type": "markdown",
   "id": "7971783d",
   "metadata": {},
   "source": [
    "Let's define a prompt outlining a dialogue chat bot.\n"
   ]
  },
  {
   "cell_type": "code",
   "execution_count": 5,
   "id": "e84a05fc",
   "metadata": {},
   "outputs": [],
   "source": [
    "prompt = \"\"\"\n",
    "ChatBot can have a conversation with you about any topic.\n",
    "It can give explicit instructions or say 'I don't know' if it does not have an answer.\n",
    "\n",
    "{{$history}}\n",
    "User: {{$user_input}}\n",
    "ChatBot: \"\"\""
   ]
  },
  {
   "attachments": {},
   "cell_type": "markdown",
   "id": "61716b16",
   "metadata": {},
   "source": [
    "Register your semantic function\n"
   ]
  },
  {
   "cell_type": "code",
   "execution_count": 6,
   "id": "a3e4b160",
   "metadata": {},
   "outputs": [],
   "source": [
    "from semantic_kernel.connectors.ai.open_ai import AzureChatPromptExecutionSettings, OpenAIChatPromptExecutionSettings\n",
    "from semantic_kernel.prompt_template import PromptTemplateConfig\n",
    "from semantic_kernel.prompt_template.input_variable import InputVariable\n",
    "\n",
    "if selectedService == Service.OpenAI:\n",
    "    execution_settings = OpenAIChatPromptExecutionSettings(\n",
    "        service_id=service_id,\n",
    "        ai_model_id=\"gpt-4o\",\n",
    "        max_tokens=2000,\n",
    "        temperature=0.7,\n",
    "    )\n",
    "elif selectedService == Service.AzureOpenAI:\n",
    "    execution_settings = AzureChatPromptExecutionSettings(\n",
    "        service_id=service_id,\n",
    "        ai_model_id=\"gpt-4o\",\n",
    "        max_tokens=2000,\n",
    "        temperature=0.7,\n",
    "    )\n",
    "\n",
    "prompt_template_config = PromptTemplateConfig(\n",
    "    template=prompt,\n",
    "    name=\"chat\",\n",
    "    template_format=\"semantic-kernel\",\n",
    "    input_variables=[\n",
    "        InputVariable(name=\"user_input\", description=\"The user input\", is_required=True),\n",
    "        InputVariable(name=\"history\", description=\"The conversation history\", is_required=True),\n",
    "    ],\n",
    "    execution_settings=execution_settings,\n",
    ")\n",
    "\n",
    "chat_function = kernel.add_function(\n",
    "    function_name=\"chat\",\n",
    "    plugin_name=\"chatPlugin\",\n",
    "    prompt_template_config=prompt_template_config,\n",
    ")"
   ]
  },
  {
   "cell_type": "code",
   "execution_count": 7,
   "id": "6a0f7c01",
   "metadata": {},
   "outputs": [],
   "source": [
    "from semantic_kernel.contents import ChatHistory\n",
    "\n",
    "chat_history = ChatHistory()\n",
    "chat_history.add_system_message(\"You are a helpful chatbot who is good about giving book recommendations.\")"
   ]
  },
  {
   "attachments": {},
   "cell_type": "markdown",
   "id": "6e8a676f",
   "metadata": {},
   "source": [
    "Initialize the Kernel Arguments\n"
   ]
  },
  {
   "cell_type": "code",
   "execution_count": 8,
   "id": "a4be7394",
   "metadata": {},
   "outputs": [],
   "source": [
    "from semantic_kernel.functions import KernelArguments\n",
    "\n",
    "arguments = KernelArguments(user_input=\"Hi, I'm looking for book suggestions\", history=chat_history)"
   ]
  },
  {
   "attachments": {},
   "cell_type": "markdown",
   "id": "4ce7c497",
   "metadata": {},
   "source": [
    "Chat with the Bot\n"
   ]
  },
  {
   "cell_type": "code",
   "execution_count": 9,
   "id": "5ec41eb8",
   "metadata": {},
   "outputs": [
    {
     "name": "stdout",
     "output_type": "stream",
     "text": [
      "Hi there! I'd be happy to help you with that. Could you let me know what genres or types of books you enjoy?\n"
     ]
    }
   ],
   "source": [
    "response = await kernel.invoke(chat_function, arguments)\n",
    "print(response)"
   ]
  },
  {
   "attachments": {},
   "cell_type": "markdown",
   "id": "a5b03748",
   "metadata": {},
   "source": [
    "Update the history with the output\n"
   ]
  },
  {
   "cell_type": "code",
   "execution_count": 10,
   "id": "f50f517d",
   "metadata": {},
   "outputs": [],
   "source": [
    "chat_history.add_assistant_message(str(response))"
   ]
  },
  {
   "attachments": {},
   "cell_type": "markdown",
   "id": "23a2eb02",
   "metadata": {},
   "source": [
    "Keep Chatting!\n"
   ]
  },
  {
   "cell_type": "code",
   "execution_count": 11,
   "id": "c59efe45",
   "metadata": {},
   "outputs": [],
   "source": [
    "async def chat(input_text: str) -> None:\n",
    "    # Save new message in the context variables\n",
    "    print(f\"User: {input_text}\")\n",
    "\n",
    "    # Process the user message and get an answer\n",
    "    answer = await kernel.invoke(chat_function, KernelArguments(user_input=input_text, history=chat_history))\n",
    "\n",
    "    # Show the response\n",
    "    print(f\"ChatBot: {answer}\")\n",
    "\n",
    "    chat_history.add_user_message(input_text)\n",
    "    chat_history.add_assistant_message(str(answer))"
   ]
  },
  {
   "cell_type": "code",
   "execution_count": 12,
   "id": "06ee244e",
   "metadata": {},
   "outputs": [
    {
     "name": "stdout",
     "output_type": "stream",
     "text": [
      "User: I love history and philosophy, I'd like to learn something new about Greece, any suggestion?\n",
      "ChatBot: Absolutely! Here are a few books that delve into the history and philosophy of Greece:\n",
      "\n",
      "1. **\"The Histories\" by Herodotus** - Often considered the \"Father of History,\" Herodotus provides a comprehensive look at the ancient world, including detailed accounts of Greek history and its interactions with other civilizations.\n",
      "\n",
      "2. **\"The Peloponnesian War\" by Thucydides** - This classic work offers an in-depth analysis of the war between Athens and Sparta, providing insights into Greek politics, warfare, and society.\n",
      "\n",
      "3. **\"The Republic\" by Plato** - A foundational text in Western philosophy, Plato's dialogue explores justice, the ideal state, and the philosopher-king, offering a profound glimpse into Greek philosophical thought.\n",
      "\n",
      "4. **\"The Nicomachean Ethics\" by Aristotle** - In this work, Aristotle examines the nature of happiness and virtue, providing a key text in both Greek and Western ethical philosophy.\n",
      "\n",
      "5. **\"Alexander the Great\" by Philip Freeman** - A modern biography that provides a detailed and engaging account of the life and conquests of Alexander the Great, one of Greece's most famous historical figures.\n",
      "\n",
      "6. **\"Greek Ways: How the Greeks Created Western Civilization\" by Bruce S. Thornton** - This book explores the various contributions of ancient Greece to Western civilization, from philosophy and politics to art and literature.\n",
      "\n",
      "I hope one of these piques your interest! Let me know if you need more recommendations or have any other preferences.\n"
     ]
    }
   ],
   "source": [
    "await chat(\"I love history and philosophy, I'd like to learn something new about Greece, any suggestion?\")"
   ]
  },
  {
   "cell_type": "code",
   "execution_count": 13,
   "id": "82be4e7e",
   "metadata": {},
   "outputs": [
    {
     "name": "stdout",
     "output_type": "stream",
     "text": [
      "User: that sounds interesting, what is it about?\n",
      "ChatBot: Sure! Which book are you referring to? I can provide more details about any of the ones I listed.\n"
     ]
    }
   ],
   "source": [
    "await chat(\"that sounds interesting, what is it about?\")"
   ]
  },
  {
   "cell_type": "code",
   "execution_count": 14,
   "id": "82fe0139",
   "metadata": {},
   "outputs": [
    {
     "name": "stdout",
     "output_type": "stream",
     "text": [
      "User: if I read that book, what exactly will I learn about Greek history?\n",
      "ChatBot: Let's break down what you can learn from each of the books I mentioned:\n",
      "\n",
      "1. **\"The Histories\" by Herodotus**:\n",
      "   - **Content**: This book covers the Greco-Persian Wars and provides detailed accounts of various peoples and places in the ancient world.\n",
      "   - **Key Learnings**: Insights into the causes and events of the Persian Wars, cultural and social practices of different civilizations, and early historical methodology.\n",
      "\n",
      "2. **\"The Peloponnesian War\" by Thucydides**:\n",
      "   - **Content**: Thucydides' work is a detailed historical account of the 27-year conflict between Athens and Sparta.\n",
      "   - **Key Learnings**: Political and military strategies, the impact of war on Greek society, and the nature of power and human behavior.\n",
      "\n",
      "3. **\"The Republic\" by Plato**:\n",
      "   - **Content**: A philosophical dialogue on justice, the ideal state, and the role of the philosopher.\n",
      "   - **Key Learnings**: Concepts of justice, the structure of an ideal society, and the importance of philosophical inquiry in governance.\n",
      "\n",
      "4. **\"The Nicomachean Ethics\" by Aristotle**:\n",
      "   - **Content**: A treatise on ethics and the nature of a good life.\n",
      "   - **Key Learnings**: The concept of virtue, the relationship between ethics and happiness, and practical guidance on living a moral life.\n",
      "\n",
      "5. **\"Alexander the Great\" by Philip Freeman**:\n",
      "   - **Content**: A biography of Alexander the Great.\n",
      "   - **Key Learnings**: The life, conquests, and legacy of Alexander the Great, as well as insights into the Hellenistic period that followed his empire-building.\n",
      "\n",
      "6. **\"Greek Ways: How the Greeks Created Western Civilization\" by Bruce S. Thornton**:\n",
      "   - **Content**: An exploration of the contributions of ancient Greece to Western civilization.\n",
      "   - **Key Learnings**: The roots of Western culture in Greek art, literature, philosophy, politics, and science.\n",
      "\n",
      "Each of these books offers a unique perspective on different aspects of Greek history and philosophy, providing a broad understanding of how ancient Greece has shaped the modern world.\n"
     ]
    }
   ],
   "source": [
    "await chat(\"if I read that book, what exactly will I learn about Greek history?\")"
   ]
  },
  {
   "cell_type": "code",
   "execution_count": 15,
   "id": "55b3a9f2",
   "metadata": {},
   "outputs": [
    {
     "name": "stdout",
     "output_type": "stream",
     "text": [
      "User: could you list some more books I could read about this topic?\n",
      "ChatBot: Certainly! Here are some more books that explore various aspects of Greek history and philosophy:\n",
      "\n",
      "1. **\"The Iliad\" and \"The Odyssey\" by Homer** - These epic poems are foundational texts in Greek literature, offering insights into Greek mythology, heroism, and the values of ancient Greek society.\n",
      "\n",
      "2. **\"The Rise of Athens: The Story of the World's Greatest Civilization\" by Anthony Everitt** - This book provides a comprehensive history of Athens, from its early days to its height as a cultural and political powerhouse.\n",
      "\n",
      "3. **\"Greek Philosophy: Thales to Aristotle\" by Reginald E. Allen** - This anthology includes key works from major Greek philosophers, providing a broad overview of Greek philosophical thought.\n",
      "\n",
      "4. **\"The Greeks: A Global History\" by Roderick Beaton** - This book offers a sweeping narrative of Greek history, examining its influence on global history and culture.\n",
      "\n",
      "5. **\"The Birth of Classical Europe: A History from Troy to Augustine\" by Simon Price and Peter Thonemann** - This book traces the development of European civilization from the Bronze Age to the early Middle Ages, with a strong focus on Greek contributions.\n",
      "\n",
      "6. **\"The Cambridge Illustrated History of Ancient Greece\" edited by Paul Cartledge** - A richly illustrated and accessible introduction to ancient Greek history and culture.\n",
      "\n",
      "7. **\"Lives of the Noble Greeks and Romans\" by Plutarch** - Also known as \"Parallel Lives,\" this series of biographies compares the lives of famous Greeks and Romans, offering insights into their characters and achievements.\n",
      "\n",
      "8. **\"A History of Greece to the Death of Alexander the Great\" by J.B. Bury** - A classic and detailed account of Greek history up to the end of Alexander the Great's life.\n",
      "\n",
      "9. **\"Greek Religion\" by Walter Burkert** - This book explores the religious beliefs and practices of ancient Greece, providing a comprehensive overview of Greek mythology and rituals.\n",
      "\n",
      "10. **\"The Greeks and the Irrational\" by E.R. Dodds** - A study of the irrational elements in Greek culture, including the role of the supernatural and the influence of emotion on Greek thought and behavior.\n",
      "\n",
      "These books should offer a wealth of knowledge and a deeper understanding of various facets of Greek history and philosophy. Enjoy your reading journey!\n"
     ]
    }
   ],
   "source": [
    "await chat(\"could you list some more books I could read about this topic?\")"
   ]
  },
  {
   "attachments": {},
   "cell_type": "markdown",
   "id": "c30bac97",
   "metadata": {},
   "source": [
    "After chatting for a while, we have built a growing history, which we are attaching to each prompt and which contains the full conversation. Let's take a look!\n"
   ]
  },
  {
   "cell_type": "code",
   "execution_count": 16,
   "id": "5e34ae55",
   "metadata": {},
   "outputs": [
    {
     "name": "stdout",
     "output_type": "stream",
     "text": [
      "<chat_history><message role=\"system\"><text>You are a helpful chatbot who is good about giving book recommendations.</text></message><message role=\"assistant\"><text>Hi there! I'd be happy to help you with that. Could you let me know what genres or types of books you enjoy?</text></message><message role=\"user\"><text>I love history and philosophy, I'd like to learn something new about Greece, any suggestion?</text></message><message role=\"assistant\"><text>Absolutely! Here are a few books that delve into the history and philosophy of Greece:\n",
      "\n",
      "1. **\"The Histories\" by Herodotus** - Often considered the \"Father of History,\" Herodotus provides a comprehensive look at the ancient world, including detailed accounts of Greek history and its interactions with other civilizations.\n",
      "\n",
      "2. **\"The Peloponnesian War\" by Thucydides** - This classic work offers an in-depth analysis of the war between Athens and Sparta, providing insights into Greek politics, warfare, and society.\n",
      "\n",
      "3. **\"The Republic\" by Plato** - A foundational text in Western philosophy, Plato's dialogue explores justice, the ideal state, and the philosopher-king, offering a profound glimpse into Greek philosophical thought.\n",
      "\n",
      "4. **\"The Nicomachean Ethics\" by Aristotle** - In this work, Aristotle examines the nature of happiness and virtue, providing a key text in both Greek and Western ethical philosophy.\n",
      "\n",
      "5. **\"Alexander the Great\" by Philip Freeman** - A modern biography that provides a detailed and engaging account of the life and conquests of Alexander the Great, one of Greece's most famous historical figures.\n",
      "\n",
      "6. **\"Greek Ways: How the Greeks Created Western Civilization\" by Bruce S. Thornton** - This book explores the various contributions of ancient Greece to Western civilization, from philosophy and politics to art and literature.\n",
      "\n",
      "I hope one of these piques your interest! Let me know if you need more recommendations or have any other preferences.</text></message><message role=\"user\"><text>that sounds interesting, what is it about?</text></message><message role=\"assistant\"><text>Sure! Which book are you referring to? I can provide more details about any of the ones I listed.</text></message><message role=\"user\"><text>if I read that book, what exactly will I learn about Greek history?</text></message><message role=\"assistant\"><text>Let's break down what you can learn from each of the books I mentioned:\n",
      "\n",
      "1. **\"The Histories\" by Herodotus**:\n",
      "   - **Content**: This book covers the Greco-Persian Wars and provides detailed accounts of various peoples and places in the ancient world.\n",
      "   - **Key Learnings**: Insights into the causes and events of the Persian Wars, cultural and social practices of different civilizations, and early historical methodology.\n",
      "\n",
      "2. **\"The Peloponnesian War\" by Thucydides**:\n",
      "   - **Content**: Thucydides' work is a detailed historical account of the 27-year conflict between Athens and Sparta.\n",
      "   - **Key Learnings**: Political and military strategies, the impact of war on Greek society, and the nature of power and human behavior.\n",
      "\n",
      "3. **\"The Republic\" by Plato**:\n",
      "   - **Content**: A philosophical dialogue on justice, the ideal state, and the role of the philosopher.\n",
      "   - **Key Learnings**: Concepts of justice, the structure of an ideal society, and the importance of philosophical inquiry in governance.\n",
      "\n",
      "4. **\"The Nicomachean Ethics\" by Aristotle**:\n",
      "   - **Content**: A treatise on ethics and the nature of a good life.\n",
      "   - **Key Learnings**: The concept of virtue, the relationship between ethics and happiness, and practical guidance on living a moral life.\n",
      "\n",
      "5. **\"Alexander the Great\" by Philip Freeman**:\n",
      "   - **Content**: A biography of Alexander the Great.\n",
      "   - **Key Learnings**: The life, conquests, and legacy of Alexander the Great, as well as insights into the Hellenistic period that followed his empire-building.\n",
      "\n",
      "6. **\"Greek Ways: How the Greeks Created Western Civilization\" by Bruce S. Thornton**:\n",
      "   - **Content**: An exploration of the contributions of ancient Greece to Western civilization.\n",
      "   - **Key Learnings**: The roots of Western culture in Greek art, literature, philosophy, politics, and science.\n",
      "\n",
      "Each of these books offers a unique perspective on different aspects of Greek history and philosophy, providing a broad understanding of how ancient Greece has shaped the modern world.</text></message><message role=\"user\"><text>could you list some more books I could read about this topic?</text></message><message role=\"assistant\"><text>Certainly! Here are some more books that explore various aspects of Greek history and philosophy:\n",
      "\n",
      "1. **\"The Iliad\" and \"The Odyssey\" by Homer** - These epic poems are foundational texts in Greek literature, offering insights into Greek mythology, heroism, and the values of ancient Greek society.\n",
      "\n",
      "2. **\"The Rise of Athens: The Story of the World's Greatest Civilization\" by Anthony Everitt** - This book provides a comprehensive history of Athens, from its early days to its height as a cultural and political powerhouse.\n",
      "\n",
      "3. **\"Greek Philosophy: Thales to Aristotle\" by Reginald E. Allen** - This anthology includes key works from major Greek philosophers, providing a broad overview of Greek philosophical thought.\n",
      "\n",
      "4. **\"The Greeks: A Global History\" by Roderick Beaton** - This book offers a sweeping narrative of Greek history, examining its influence on global history and culture.\n",
      "\n",
      "5. **\"The Birth of Classical Europe: A History from Troy to Augustine\" by Simon Price and Peter Thonemann** - This book traces the development of European civilization from the Bronze Age to the early Middle Ages, with a strong focus on Greek contributions.\n",
      "\n",
      "6. **\"The Cambridge Illustrated History of Ancient Greece\" edited by Paul Cartledge** - A richly illustrated and accessible introduction to ancient Greek history and culture.\n",
      "\n",
      "7. **\"Lives of the Noble Greeks and Romans\" by Plutarch** - Also known as \"Parallel Lives,\" this series of biographies compares the lives of famous Greeks and Romans, offering insights into their characters and achievements.\n",
      "\n",
      "8. **\"A History of Greece to the Death of Alexander the Great\" by J.B. Bury** - A classic and detailed account of Greek history up to the end of Alexander the Great's life.\n",
      "\n",
      "9. **\"Greek Religion\" by Walter Burkert** - This book explores the religious beliefs and practices of ancient Greece, providing a comprehensive overview of Greek mythology and rituals.\n",
      "\n",
      "10. **\"The Greeks and the Irrational\" by E.R. Dodds** - A study of the irrational elements in Greek culture, including the role of the supernatural and the influence of emotion on Greek thought and behavior.\n",
      "\n",
      "These books should offer a wealth of knowledge and a deeper understanding of various facets of Greek history and philosophy. Enjoy your reading journey!</text></message></chat_history>\n"
     ]
    }
   ],
   "source": [
    "print(chat_history)"
   ]
  }
 ],
 "metadata": {
  "kernelspec": {
   "display_name": "Python 3",
   "language": "python",
   "name": "python3"
  },
  "language_info": {
   "codemirror_mode": {
    "name": "ipython",
    "version": 3
   },
   "file_extension": ".py",
   "mimetype": "text/x-python",
   "name": "python",
   "nbconvert_exporter": "python",
   "pygments_lexer": "ipython3",
   "version": "3.11.9"
  }
 },
 "nbformat": 4,
 "nbformat_minor": 5
}
